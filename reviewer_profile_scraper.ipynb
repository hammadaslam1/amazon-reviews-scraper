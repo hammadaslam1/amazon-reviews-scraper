{
 "cells": [
  {
   "cell_type": "code",
   "execution_count": 1,
   "metadata": {},
   "outputs": [],
   "source": [
    "from selenium import webdriver\n",
    "from selenium.webdriver.common.by import By\n",
    "from selenium.webdriver.support.ui import WebDriverWait\n",
    "from selenium.webdriver.support import expected_conditions as EC\n",
    "from selenium.webdriver.chrome.service import Service # Import Service class to specify ChromeDriver location\n",
    "from webdriver_manager.chrome import ChromeDriverManager\n",
    "from selenium.common.exceptions import TimeoutException\n",
    "import time\n",
    "from bs4 import BeautifulSoup\n",
    "import pandas as pd"
   ]
  },
  {
   "cell_type": "code",
   "execution_count": 2,
   "metadata": {},
   "outputs": [],
   "source": [
    "# Replace with the path to your ChromeDriver executable\n",
    "options = webdriver.ChromeOptions()\n",
    "options.add_argument(\"--no-sandbox\")\n",
    "options.add_argument(\"--disable-dev-sh-usage\")\n",
    "# options.add_argument(\"--headless\")\n",
    "driver = webdriver.Chrome(service=Service(ChromeDriverManager().install()), options=options)\n",
    "\n",
    "driver.get('https://www.amazon.com/')\n",
    "# Open Facebook login page"
   ]
  },
  {
   "cell_type": "code",
   "execution_count": 19,
   "metadata": {},
   "outputs": [
    {
     "data": {
      "text/plain": [
       "0       https://www.amazon.com/sspa/click?ie=UTF8&spc=...\n",
       "1       https://www.amazon.com/sspa/click?ie=UTF8&spc=...\n",
       "2       https://www.amazon.com/sspa/click?ie=UTF8&spc=...\n",
       "3       https://www.amazon.com/Nautica-N2239S-Polarize...\n",
       "4       https://www.amazon.com/Costa-Del-Mar-Original-...\n",
       "                              ...                        \n",
       "2103    https://www.amazon.com/Maui-Jim-PolarizedPlus2...\n",
       "2104    https://www.amazon.com/Serengeti-Bellemon-Pola...\n",
       "2105    https://www.amazon.com/Travelon-Blocking-Singl...\n",
       "2106    https://www.amazon.com/sspa/click?ie=UTF8&spc=...\n",
       "2107    https://www.amazon.com/Magpul-Tactical-Sunglas...\n",
       "Name: links, Length: 2108, dtype: object"
      ]
     },
     "execution_count": 19,
     "metadata": {},
     "output_type": "execute_result"
    }
   ],
   "source": [
    "df = pd.read_csv('product_links/men/mens_accessories.csv')\n",
    "links = df['links']\n",
    "links"
   ]
  },
  {
   "cell_type": "code",
   "execution_count": null,
   "metadata": {},
   "outputs": [],
   "source": [
    "reviewers = []\n",
    "\n",
    "for i, link in enumerate(links):\n",
    "    if i < 100 and i < len(links):\n",
    "        print(i)\n",
    "        driver.get(link)\n",
    "        time.sleep(1)\n",
    "        try:\n",
    "            rating_link = driver.find_element(By.ID, \"acrCustomerReviewLink\")\n",
    "            rating_link.click()\n",
    "            see_more_div = driver.find_element(By.ID, \"reviews-medley-footer\")\n",
    "            anchor_tag = see_more_div.find_element(By.TAG_NAME, \"a\")\n",
    "            driver.get(anchor_tag.get_attribute(\"href\"))\n",
    "            count = 0\n",
    "            while True:\n",
    "                try:\n",
    "                    time.sleep(1)\n",
    "                    review_div = driver.find_element(By.ID, \"cm_cr-review_list\")\n",
    "                    reviewer_profiles = review_div.find_elements(By.CLASS_NAME, \"a-profile\")\n",
    "                    count += len(reviewer_profiles)\n",
    "                    for profile in reviewer_profiles:\n",
    "                        reviewers.append(profile.get_attribute(\"href\"))\n",
    "                    see_more_link = driver.find_element(By.CLASS_NAME, \"a-last\")\n",
    "                    a = see_more_link.find_element(By.TAG_NAME, \"a\")\n",
    "                    driver.get(a.get_attribute(\"href\"))\n",
    "\n",
    "                except:\n",
    "                    break\n",
    "            print(count)\n",
    "            print(driver.title)\n",
    "            time.sleep(1)\n",
    "        except:\n",
    "            print(\"Failed to load reviews\")\n",
    "            continue\n",
    "    else:\n",
    "        break\n",
    "print(\"complete\")"
   ]
  },
  {
   "cell_type": "code",
   "execution_count": null,
   "metadata": {},
   "outputs": [],
   "source": [
    "len(list(set(reviewers)))"
   ]
  },
  {
   "cell_type": "code",
   "execution_count": 18,
   "metadata": {},
   "outputs": [],
   "source": [
    "df = pd.DataFrame(columns=['links'])\n",
    "\n",
    "df['links'] = list(set(reviewers))\n",
    "\n",
    "df.to_csv('reviewers_links/mens_accessories_reviewers.csv', index=False)"
   ]
  }
 ],
 "metadata": {
  "kernelspec": {
   "display_name": "Python 3",
   "language": "python",
   "name": "python3"
  },
  "language_info": {
   "codemirror_mode": {
    "name": "ipython",
    "version": 3
   },
   "file_extension": ".py",
   "mimetype": "text/x-python",
   "name": "python",
   "nbconvert_exporter": "python",
   "pygments_lexer": "ipython3",
   "version": "3.12.4"
  }
 },
 "nbformat": 4,
 "nbformat_minor": 2
}
