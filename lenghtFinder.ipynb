{
 "cells": [
  {
   "cell_type": "code",
   "execution_count": 21,
   "metadata": {},
   "outputs": [
    {
     "data": {
      "text/plain": [
       "(993, 993)"
      ]
     },
     "execution_count": 21,
     "metadata": {},
     "output_type": "execute_result"
    }
   ],
   "source": [
    "import json\n",
    "import csv\n",
    "import pandas as pd\n",
    "\n",
    "\n",
    "with open('json/mens_shoes.json', 'r') as f:\n",
    "    json_file = json.load(f)\n",
    "    \n",
    "csv_file = pd.read_csv('json/mens_shoes.csv')\n",
    "    \n",
    "len(json_file), len(csv_file)"
   ]
  },
  {
   "cell_type": "code",
   "execution_count": 18,
   "metadata": {},
   "outputs": [
    {
     "data": {
      "text/plain": [
       "21"
      ]
     },
     "execution_count": 18,
     "metadata": {},
     "output_type": "execute_result"
    }
   ],
   "source": [
    "c = 0\n",
    "for item in json_file:\n",
    "    if item[\"helpful_votes\"] > 9:\n",
    "        c += 1\n",
    "c"
   ]
  },
  {
   "cell_type": "code",
   "execution_count": 17,
   "metadata": {},
   "outputs": [
    {
     "name": "stdout",
     "output_type": "stream",
     "text": [
      "173\n"
     ]
    }
   ],
   "source": [
    "count = 0\n",
    "\n",
    "for item in csv_file.itertuples():\n",
    "    if float(item[11].split(\" \")[0]) > 9:\n",
    "        count += 1\n",
    "print(count)"
   ]
  },
  {
   "cell_type": "code",
   "execution_count": 22,
   "metadata": {},
   "outputs": [
    {
     "name": "stdout",
     "output_type": "stream",
     "text": [
      "JSON data has been converted to CSV and saved as 'data.csv'.\n"
     ]
    }
   ],
   "source": [
    "import json\n",
    "import csv\n",
    "\n",
    "# Load the JSON data\n",
    "with open('json/mens_clothes.json', 'r') as json_file:\n",
    "    data = json.load(json_file)\n",
    "\n",
    "# Open a file for writing the CSV\n",
    "with open('json/mens_clothes.csv', 'w', newline='', encoding='utf-8') as csv_file:\n",
    "    writer = csv.writer(csv_file)\n",
    "\n",
    "    # Write the header\n",
    "    header = [\n",
    "        \"Customer Name\", \"Customer ID\", \"Product Name\", \"Average Rating\", \"No. of Ratings\", \"Product Categories\", \"Product Features\", \"Product Description\", \"Product ID\", \"Title of Review\", \"Is Verified\", \"Rating by Customer\", \"Review Body\", \"Hearts for Review\", \"Total Hearts for Customer\"\n",
    "    ]\n",
    "    writer.writerow(header)\n",
    "\n",
    "    # Write the data rows\n",
    "    for record in data:\n",
    "        row = [\n",
    "            record.get(\"user_name\"),\n",
    "            record.get(\"user_id\"),\n",
    "            record.get(\"product_title\"),\n",
    "            record.get(\"average_rating\"),\n",
    "            record.get(\"total_rating\"),\n",
    "            record.get(\"product_category\"),\n",
    "            record.get(\"features\"),\n",
    "            record.get(\"description\"),\n",
    "            record.get(\"product_asin\"),\n",
    "            record.get(\"review_title\"),\n",
    "            record.get(\"verified_purchase\"),\n",
    "            record.get(\"review_rating\"),\n",
    "            record.get(\"text\"),\n",
    "            record.get(\"helpful_votes\"),\n",
    "            record.get(\"total_helpful_votes\")\n",
    "        ]\n",
    "        writer.writerow(row)\n",
    "\n",
    "print(\"JSON data has been converted to CSV and saved as 'data.csv'.\")\n"
   ]
  },
  {
   "cell_type": "code",
   "execution_count": null,
   "metadata": {},
   "outputs": [],
   "source": []
  }
 ],
 "metadata": {
  "kernelspec": {
   "display_name": "Python 3",
   "language": "python",
   "name": "python3"
  },
  "language_info": {
   "codemirror_mode": {
    "name": "ipython",
    "version": 3
   },
   "file_extension": ".py",
   "mimetype": "text/x-python",
   "name": "python",
   "nbconvert_exporter": "python",
   "pygments_lexer": "ipython3",
   "version": "3.12.4"
  }
 },
 "nbformat": 4,
 "nbformat_minor": 2
}
